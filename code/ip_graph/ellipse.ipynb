{
 "metadata": {
  "language_info": {
   "codemirror_mode": {
    "name": "ipython",
    "version": 3
   },
   "file_extension": ".py",
   "mimetype": "text/x-python",
   "name": "python",
   "nbconvert_exporter": "python",
   "pygments_lexer": "ipython3",
   "version": "3.8.5-final"
  },
  "orig_nbformat": 2,
  "kernelspec": {
   "name": "python38564bitc64425d8f54440ef9c98cae221f48902",
   "display_name": "Python 3.8.5 64-bit",
   "language": "python"
  }
 },
 "nbformat": 4,
 "nbformat_minor": 2,
 "cells": [
  {
   "cell_type": "code",
   "execution_count": 3,
   "metadata": {},
   "outputs": [],
   "source": [
    "from matplotlib import patches\n",
    "from scipy.spatial import ConvexHull\n",
    "\n",
    "# !pip install brewer2mpl\n",
    "import numpy as np\n",
    "import pandas as pd\n",
    "import matplotlib as mpl\n",
    "import matplotlib.pyplot as plt\n",
    "import seaborn as sns\n",
    "\n",
    "import warnings; warnings.simplefilter('ignore')\n",
    "sns.set_style(\"white\")\n",
    "\n",
    "from matplotlib.patches import Ellipse\n",
    "\n",
    "n_colors = 7\n",
    "colors = [plt.cm.tab10(i/float(n_colors-1)) for i in range(n_colors)]"
   ]
  },
  {
   "cell_type": "code",
   "execution_count": 135,
   "metadata": {},
   "outputs": [
    {
     "output_type": "stream",
     "name": "stdout",
     "text": [
      "[<__main__.EllipseRegion object at 0x7f4e319a0130>\n <__main__.EllipseRegion object at 0x7f4e312df340>\n <__main__.EllipseRegion object at 0x7f4e3142d160>\n <__main__.EllipseRegion object at 0x7f4e3142d3a0>\n <__main__.EllipseRegion object at 0x7f4e3142d5b0>\n <__main__.EllipseRegion object at 0x7f4e3142d340>\n <__main__.EllipseRegion object at 0x7f4e3142dd60>\n <__main__.EllipseRegion object at 0x7f4e3142d760>]\n"
     ]
    },
    {
     "output_type": "display_data",
     "data": {
      "text/plain": "<Figure size 432x288 with 1 Axes>",
      "image/svg+xml": "<?xml version=\"1.0\" encoding=\"utf-8\" standalone=\"no\"?>\n<!DOCTYPE svg PUBLIC \"-//W3C//DTD SVG 1.1//EN\"\n  \"http://www.w3.org/Graphics/SVG/1.1/DTD/svg11.dtd\">\n<!-- Created with matplotlib (https://matplotlib.org/) -->\n<svg height=\"252.317344pt\" version=\"1.1\" viewBox=\"0 0 248.38375 252.317344\" width=\"248.38375pt\" xmlns=\"http://www.w3.org/2000/svg\" xmlns:xlink=\"http://www.w3.org/1999/xlink\">\n <metadata>\n  <rdf:RDF xmlns:cc=\"http://creativecommons.org/ns#\" xmlns:dc=\"http://purl.org/dc/elements/1.1/\" xmlns:rdf=\"http://www.w3.org/1999/02/22-rdf-syntax-ns#\">\n   <cc:Work>\n    <dc:type rdf:resource=\"http://purl.org/dc/dcmitype/StillImage\"/>\n    <dc:date>2021-04-07T04:31:57.668579</dc:date>\n    <dc:format>image/svg+xml</dc:format>\n    <dc:creator>\n     <cc:Agent>\n      <dc:title>Matplotlib v3.3.4, https://matplotlib.org/</dc:title>\n     </cc:Agent>\n    </dc:creator>\n   </cc:Work>\n  </rdf:RDF>\n </metadata>\n <defs>\n  <style type=\"text/css\">*{stroke-linecap:butt;stroke-linejoin:round;}</style>\n </defs>\n <g id=\"figure_1\">\n  <g id=\"patch_1\">\n   <path d=\"M 0 252.317344 \nL 248.38375 252.317344 \nL 248.38375 0 \nL 0 0 \nz\n\" style=\"fill:#ffffff;\"/>\n  </g>\n  <g id=\"axes_1\">\n   <g id=\"patch_2\">\n    <path d=\"M 20.5625 228.439219 \nL 238.0025 228.439219 \nL 238.0025 10.999219 \nL 20.5625 10.999219 \nz\n\" style=\"fill:#ffffff;\"/>\n   </g>\n   <g id=\"matplotlib.axis_1\">\n    <g id=\"xtick_1\">\n     <g id=\"text_1\">\n      <!-- 0 -->\n      <g style=\"fill:#262626;\" transform=\"translate(17.38125 243.037656)scale(0.1 -0.1)\">\n       <defs>\n        <path d=\"M 31.78125 66.40625 \nQ 24.171875 66.40625 20.328125 58.90625 \nQ 16.5 51.421875 16.5 36.375 \nQ 16.5 21.390625 20.328125 13.890625 \nQ 24.171875 6.390625 31.78125 6.390625 \nQ 39.453125 6.390625 43.28125 13.890625 \nQ 47.125 21.390625 47.125 36.375 \nQ 47.125 51.421875 43.28125 58.90625 \nQ 39.453125 66.40625 31.78125 66.40625 \nz\nM 31.78125 74.21875 \nQ 44.046875 74.21875 50.515625 64.515625 \nQ 56.984375 54.828125 56.984375 36.375 \nQ 56.984375 17.96875 50.515625 8.265625 \nQ 44.046875 -1.421875 31.78125 -1.421875 \nQ 19.53125 -1.421875 13.0625 8.265625 \nQ 6.59375 17.96875 6.59375 36.375 \nQ 6.59375 54.828125 13.0625 64.515625 \nQ 19.53125 74.21875 31.78125 74.21875 \nz\n\" id=\"DejaVuSans-48\"/>\n       </defs>\n       <use xlink:href=\"#DejaVuSans-48\"/>\n      </g>\n     </g>\n    </g>\n    <g id=\"xtick_2\">\n     <g id=\"text_2\">\n      <!-- 1 -->\n      <g style=\"fill:#262626;\" transform=\"translate(60.86925 243.037656)scale(0.1 -0.1)\">\n       <defs>\n        <path d=\"M 12.40625 8.296875 \nL 28.515625 8.296875 \nL 28.515625 63.921875 \nL 10.984375 60.40625 \nL 10.984375 69.390625 \nL 28.421875 72.90625 \nL 38.28125 72.90625 \nL 38.28125 8.296875 \nL 54.390625 8.296875 \nL 54.390625 0 \nL 12.40625 0 \nz\n\" id=\"DejaVuSans-49\"/>\n       </defs>\n       <use xlink:href=\"#DejaVuSans-49\"/>\n      </g>\n     </g>\n    </g>\n    <g id=\"xtick_3\">\n     <g id=\"text_3\">\n      <!-- 2 -->\n      <g style=\"fill:#262626;\" transform=\"translate(104.35725 243.037656)scale(0.1 -0.1)\">\n       <defs>\n        <path d=\"M 19.1875 8.296875 \nL 53.609375 8.296875 \nL 53.609375 0 \nL 7.328125 0 \nL 7.328125 8.296875 \nQ 12.9375 14.109375 22.625 23.890625 \nQ 32.328125 33.6875 34.8125 36.53125 \nQ 39.546875 41.84375 41.421875 45.53125 \nQ 43.3125 49.21875 43.3125 52.78125 \nQ 43.3125 58.59375 39.234375 62.25 \nQ 35.15625 65.921875 28.609375 65.921875 \nQ 23.96875 65.921875 18.8125 64.3125 \nQ 13.671875 62.703125 7.8125 59.421875 \nL 7.8125 69.390625 \nQ 13.765625 71.78125 18.9375 73 \nQ 24.125 74.21875 28.421875 74.21875 \nQ 39.75 74.21875 46.484375 68.546875 \nQ 53.21875 62.890625 53.21875 53.421875 \nQ 53.21875 48.921875 51.53125 44.890625 \nQ 49.859375 40.875 45.40625 35.40625 \nQ 44.1875 33.984375 37.640625 27.21875 \nQ 31.109375 20.453125 19.1875 8.296875 \nz\n\" id=\"DejaVuSans-50\"/>\n       </defs>\n       <use xlink:href=\"#DejaVuSans-50\"/>\n      </g>\n     </g>\n    </g>\n    <g id=\"xtick_4\">\n     <g id=\"text_4\">\n      <!-- 3 -->\n      <g style=\"fill:#262626;\" transform=\"translate(147.84525 243.037656)scale(0.1 -0.1)\">\n       <defs>\n        <path d=\"M 40.578125 39.3125 \nQ 47.65625 37.796875 51.625 33 \nQ 55.609375 28.21875 55.609375 21.1875 \nQ 55.609375 10.40625 48.1875 4.484375 \nQ 40.765625 -1.421875 27.09375 -1.421875 \nQ 22.515625 -1.421875 17.65625 -0.515625 \nQ 12.796875 0.390625 7.625 2.203125 \nL 7.625 11.71875 \nQ 11.71875 9.328125 16.59375 8.109375 \nQ 21.484375 6.890625 26.8125 6.890625 \nQ 36.078125 6.890625 40.9375 10.546875 \nQ 45.796875 14.203125 45.796875 21.1875 \nQ 45.796875 27.640625 41.28125 31.265625 \nQ 36.765625 34.90625 28.71875 34.90625 \nL 20.21875 34.90625 \nL 20.21875 43.015625 \nL 29.109375 43.015625 \nQ 36.375 43.015625 40.234375 45.921875 \nQ 44.09375 48.828125 44.09375 54.296875 \nQ 44.09375 59.90625 40.109375 62.90625 \nQ 36.140625 65.921875 28.71875 65.921875 \nQ 24.65625 65.921875 20.015625 65.03125 \nQ 15.375 64.15625 9.8125 62.3125 \nL 9.8125 71.09375 \nQ 15.4375 72.65625 20.34375 73.4375 \nQ 25.25 74.21875 29.59375 74.21875 \nQ 40.828125 74.21875 47.359375 69.109375 \nQ 53.90625 64.015625 53.90625 55.328125 \nQ 53.90625 49.265625 50.4375 45.09375 \nQ 46.96875 40.921875 40.578125 39.3125 \nz\n\" id=\"DejaVuSans-51\"/>\n       </defs>\n       <use xlink:href=\"#DejaVuSans-51\"/>\n      </g>\n     </g>\n    </g>\n    <g id=\"xtick_5\">\n     <g id=\"text_5\">\n      <!-- 4 -->\n      <g style=\"fill:#262626;\" transform=\"translate(191.33325 243.037656)scale(0.1 -0.1)\">\n       <defs>\n        <path d=\"M 37.796875 64.3125 \nL 12.890625 25.390625 \nL 37.796875 25.390625 \nz\nM 35.203125 72.90625 \nL 47.609375 72.90625 \nL 47.609375 25.390625 \nL 58.015625 25.390625 \nL 58.015625 17.1875 \nL 47.609375 17.1875 \nL 47.609375 0 \nL 37.796875 0 \nL 37.796875 17.1875 \nL 4.890625 17.1875 \nL 4.890625 26.703125 \nz\n\" id=\"DejaVuSans-52\"/>\n       </defs>\n       <use xlink:href=\"#DejaVuSans-52\"/>\n      </g>\n     </g>\n    </g>\n    <g id=\"xtick_6\">\n     <g id=\"text_6\">\n      <!-- 5 -->\n      <g style=\"fill:#262626;\" transform=\"translate(234.82125 243.037656)scale(0.1 -0.1)\">\n       <defs>\n        <path d=\"M 10.796875 72.90625 \nL 49.515625 72.90625 \nL 49.515625 64.59375 \nL 19.828125 64.59375 \nL 19.828125 46.734375 \nQ 21.96875 47.46875 24.109375 47.828125 \nQ 26.265625 48.1875 28.421875 48.1875 \nQ 40.625 48.1875 47.75 41.5 \nQ 54.890625 34.8125 54.890625 23.390625 \nQ 54.890625 11.625 47.5625 5.09375 \nQ 40.234375 -1.421875 26.90625 -1.421875 \nQ 22.3125 -1.421875 17.546875 -0.640625 \nQ 12.796875 0.140625 7.71875 1.703125 \nL 7.71875 11.625 \nQ 12.109375 9.234375 16.796875 8.0625 \nQ 21.484375 6.890625 26.703125 6.890625 \nQ 35.15625 6.890625 40.078125 11.328125 \nQ 45.015625 15.765625 45.015625 23.390625 \nQ 45.015625 31 40.078125 35.4375 \nQ 35.15625 39.890625 26.703125 39.890625 \nQ 22.75 39.890625 18.8125 39.015625 \nQ 14.890625 38.140625 10.796875 36.28125 \nz\n\" id=\"DejaVuSans-53\"/>\n       </defs>\n       <use xlink:href=\"#DejaVuSans-53\"/>\n      </g>\n     </g>\n    </g>\n   </g>\n   <g id=\"matplotlib.axis_2\">\n    <g id=\"ytick_1\">\n     <g id=\"text_7\">\n      <!-- 0 -->\n      <g style=\"fill:#262626;\" transform=\"translate(7.2 232.238437)scale(0.1 -0.1)\">\n       <use xlink:href=\"#DejaVuSans-48\"/>\n      </g>\n     </g>\n    </g>\n    <g id=\"ytick_2\">\n     <g id=\"text_8\">\n      <!-- 1 -->\n      <g style=\"fill:#262626;\" transform=\"translate(7.2 188.750437)scale(0.1 -0.1)\">\n       <use xlink:href=\"#DejaVuSans-49\"/>\n      </g>\n     </g>\n    </g>\n    <g id=\"ytick_3\">\n     <g id=\"text_9\">\n      <!-- 2 -->\n      <g style=\"fill:#262626;\" transform=\"translate(7.2 145.262437)scale(0.1 -0.1)\">\n       <use xlink:href=\"#DejaVuSans-50\"/>\n      </g>\n     </g>\n    </g>\n    <g id=\"ytick_4\">\n     <g id=\"text_10\">\n      <!-- 3 -->\n      <g style=\"fill:#262626;\" transform=\"translate(7.2 101.774437)scale(0.1 -0.1)\">\n       <use xlink:href=\"#DejaVuSans-51\"/>\n      </g>\n     </g>\n    </g>\n    <g id=\"ytick_5\">\n     <g id=\"text_11\">\n      <!-- 4 -->\n      <g style=\"fill:#262626;\" transform=\"translate(7.2 58.286437)scale(0.1 -0.1)\">\n       <use xlink:href=\"#DejaVuSans-52\"/>\n      </g>\n     </g>\n    </g>\n    <g id=\"ytick_6\">\n     <g id=\"text_12\">\n      <!-- 5 -->\n      <g style=\"fill:#262626;\" transform=\"translate(7.2 14.798437)scale(0.1 -0.1)\">\n       <use xlink:href=\"#DejaVuSans-53\"/>\n      </g>\n     </g>\n    </g>\n   </g>\n   <g id=\"patch_3\">\n    <path clip-path=\"url(#pf877dfea9a)\" d=\"M 42.3065 207.134536 \nC 50.544466 207.134536 58.446135 204.797162 64.271257 200.637193 \nC 70.096379 196.477224 73.369357 190.834303 73.369357 184.951219 \nC 73.369357 179.068134 70.096379 173.425214 64.271257 169.265245 \nC 58.446135 165.105276 50.544466 162.767902 42.3065 162.767902 \nC 34.068534 162.767902 26.166865 165.105276 20.341743 169.265245 \nC 14.516621 173.425214 11.243643 179.068134 11.243643 184.951219 \nC 11.243643 190.834303 14.516621 196.477224 20.341743 200.637193 \nC 26.166865 204.797162 34.068534 207.134536 42.3065 207.134536 \nz\n\" style=\"fill:none;stroke:#ff0000;stroke-linejoin:miter;\"/>\n   </g>\n   <g id=\"patch_4\">\n    <path clip-path=\"url(#pf877dfea9a)\" d=\"M 64.0505 207.134536 \nC 72.288466 207.134536 80.190135 204.797162 86.015257 200.637193 \nC 91.840379 196.477224 95.113357 190.834303 95.113357 184.951219 \nC 95.113357 179.068134 91.840379 173.425214 86.015257 169.265245 \nC 80.190135 165.105276 72.288466 162.767902 64.0505 162.767902 \nC 55.812534 162.767902 47.910865 165.105276 42.085743 169.265245 \nC 36.260621 173.425214 32.987643 179.068134 32.987643 184.951219 \nC 32.987643 190.834303 36.260621 196.477224 42.085743 200.637193 \nC 47.910865 204.797162 55.812534 207.134536 64.0505 207.134536 \nz\n\" style=\"fill:none;stroke:#008000;stroke-linejoin:miter;\"/>\n   </g>\n   <g id=\"patch_5\">\n    <path clip-path=\"url(#pf877dfea9a)\" d=\"M 85.7945 207.134536 \nC 94.032466 207.134536 101.934135 204.797162 107.759257 200.637193 \nC 113.584379 196.477224 116.857357 190.834303 116.857357 184.951219 \nC 116.857357 179.068134 113.584379 173.425214 107.759257 169.265245 \nC 101.934135 165.105276 94.032466 162.767902 85.7945 162.767902 \nC 77.556534 162.767902 69.654865 165.105276 63.829743 169.265245 \nC 58.004621 173.425214 54.731643 179.068134 54.731643 184.951219 \nC 54.731643 190.834303 58.004621 196.477224 63.829743 200.637193 \nC 69.654865 204.797162 77.556534 207.134536 85.7945 207.134536 \nz\n\" style=\"fill:none;stroke:#ff0000;stroke-linejoin:miter;\"/>\n   </g>\n   <g id=\"patch_6\">\n    <path clip-path=\"url(#pf877dfea9a)\" d=\"M 107.5385 207.134536 \nC 115.776466 207.134536 123.678135 204.797162 129.503257 200.637193 \nC 135.328379 196.477224 138.601357 190.834303 138.601357 184.951219 \nC 138.601357 179.068134 135.328379 173.425214 129.503257 169.265245 \nC 123.678135 165.105276 115.776466 162.767902 107.5385 162.767902 \nC 99.300534 162.767902 91.398865 165.105276 85.573743 169.265245 \nC 79.748621 173.425214 76.475643 179.068134 76.475643 184.951219 \nC 76.475643 190.834303 79.748621 196.477224 85.573743 200.637193 \nC 91.398865 204.797162 99.300534 207.134536 107.5385 207.134536 \nz\n\" style=\"fill:none;stroke:#008000;stroke-linejoin:miter;\"/>\n   </g>\n   <g id=\"patch_7\">\n    <path clip-path=\"url(#pf877dfea9a)\" d=\"M 129.2825 207.134536 \nC 137.520466 207.134536 145.422135 204.797162 151.247257 200.637193 \nC 157.072379 196.477224 160.345357 190.834303 160.345357 184.951219 \nC 160.345357 179.068134 157.072379 173.425214 151.247257 169.265245 \nC 145.422135 165.105276 137.520466 162.767902 129.2825 162.767902 \nC 121.044534 162.767902 113.142865 165.105276 107.317743 169.265245 \nC 101.492621 173.425214 98.219643 179.068134 98.219643 184.951219 \nC 98.219643 190.834303 101.492621 196.477224 107.317743 200.637193 \nC 113.142865 204.797162 121.044534 207.134536 129.2825 207.134536 \nz\n\" style=\"fill:none;stroke:#ff0000;stroke-linejoin:miter;\"/>\n   </g>\n   <g id=\"patch_8\">\n    <path clip-path=\"url(#pf877dfea9a)\" d=\"M 151.0265 207.134536 \nC 159.264466 207.134536 167.166135 204.797162 172.991257 200.637193 \nC 178.816379 196.477224 182.089357 190.834303 182.089357 184.951219 \nC 182.089357 179.068134 178.816379 173.425214 172.991257 169.265245 \nC 167.166135 165.105276 159.264466 162.767902 151.0265 162.767902 \nC 142.788534 162.767902 134.886865 165.105276 129.061743 169.265245 \nC 123.236621 173.425214 119.963643 179.068134 119.963643 184.951219 \nC 119.963643 190.834303 123.236621 196.477224 129.061743 200.637193 \nC 134.886865 204.797162 142.788534 207.134536 151.0265 207.134536 \nz\n\" style=\"fill:none;stroke:#008000;stroke-linejoin:miter;\"/>\n   </g>\n   <g id=\"patch_9\">\n    <path clip-path=\"url(#pf877dfea9a)\" d=\"M 172.7705 207.134536 \nC 181.008466 207.134536 188.910135 204.797162 194.735257 200.637193 \nC 200.560379 196.477224 203.833357 190.834303 203.833357 184.951219 \nC 203.833357 179.068134 200.560379 173.425214 194.735257 169.265245 \nC 188.910135 165.105276 181.008466 162.767902 172.7705 162.767902 \nC 164.532534 162.767902 156.630865 165.105276 150.805743 169.265245 \nC 144.980621 173.425214 141.707643 179.068134 141.707643 184.951219 \nC 141.707643 190.834303 144.980621 196.477224 150.805743 200.637193 \nC 156.630865 204.797162 164.532534 207.134536 172.7705 207.134536 \nz\n\" style=\"fill:none;stroke:#ff0000;stroke-linejoin:miter;\"/>\n   </g>\n   <g id=\"patch_10\">\n    <path clip-path=\"url(#pf877dfea9a)\" d=\"M 194.5145 207.134536 \nC 202.752466 207.134536 210.654135 204.797162 216.479257 200.637193 \nC 222.304379 196.477224 225.577357 190.834303 225.577357 184.951219 \nC 225.577357 179.068134 222.304379 173.425214 216.479257 169.265245 \nC 210.654135 165.105276 202.752466 162.767902 194.5145 162.767902 \nC 186.276534 162.767902 178.374865 165.105276 172.549743 169.265245 \nC 166.724621 173.425214 163.451643 179.068134 163.451643 184.951219 \nC 163.451643 190.834303 166.724621 196.477224 172.549743 200.637193 \nC 178.374865 204.797162 186.276534 207.134536 194.5145 207.134536 \nz\n\" style=\"fill:none;stroke:#008000;stroke-linejoin:miter;\"/>\n   </g>\n   <g id=\"patch_11\">\n    <path d=\"M 20.5625 228.439219 \nL 20.5625 10.999219 \n\" style=\"fill:none;stroke:#262626;stroke-linecap:square;stroke-linejoin:miter;stroke-width:0.8;\"/>\n   </g>\n   <g id=\"patch_12\">\n    <path d=\"M 238.0025 228.439219 \nL 238.0025 10.999219 \n\" style=\"fill:none;stroke:#262626;stroke-linecap:square;stroke-linejoin:miter;stroke-width:0.8;\"/>\n   </g>\n   <g id=\"patch_13\">\n    <path d=\"M 20.5625 228.439219 \nL 238.0025 228.439219 \n\" style=\"fill:none;stroke:#262626;stroke-linecap:square;stroke-linejoin:miter;stroke-width:0.8;\"/>\n   </g>\n   <g id=\"patch_14\">\n    <path d=\"M 20.5625 10.999219 \nL 238.0025 10.999219 \n\" style=\"fill:none;stroke:#262626;stroke-linecap:square;stroke-linejoin:miter;stroke-width:0.8;\"/>\n   </g>\n  </g>\n </g>\n <defs>\n  <clipPath id=\"pf877dfea9a\">\n   <rect height=\"217.44\" width=\"217.44\" x=\"20.5625\" y=\"10.999219\"/>\n  </clipPath>\n </defs>\n</svg>\n",
      "image/png": "[encoded data removed]"
     },
     "metadata": {}
    }
   ],
   "source": [
    "# def encircle(x,y, ax=None, **kw):\n",
    "#     if not ax: ax=plt.gca()\n",
    "#     p = np.c_[x,y]\n",
    "#     hull = ConvexHull(p)\n",
    "#     poly = plt.Polygon(p[hull.vertices,:], **kw)\n",
    "#     ax.add_patch(poly)\n",
    "\n",
    "\n",
    "fig = plt.figure(facecolor='w', edgecolor='k')    \n",
    "# plt.close()\n",
    "# plt.figure()\n",
    "plt.gca().set_aspect('equal', adjustable='box')\n",
    "\n",
    "ax = plt.gca()\n",
    "# fig, ax = plt.subplots(figsize=(16, 10), dpi= 80, facecolor='w', edgecolor='k')\n",
    "ax.set(xlim=(0., 5.), ylim=(0., 5.))\n",
    "n = 4\n",
    "\n",
    "class EllipseRegion(object):\n",
    "    \"\"\"\n",
    "    Represents the data .... while estimating the robot state.\n",
    "    \"\"\"\n",
    "    def __init__(self, src, dest, e = 0.5, color = 'k'):\n",
    "        '''inputs are focal points'''\n",
    "        # # raise err shape = 2\n",
    "        self.src = np.array(src)\n",
    "        self.dest = np.array(dest)\n",
    "        self.color = color\n",
    "\n",
    "        delta = self.src - self.dest\n",
    "        f = (delta[0]**2 + delta[1]**2)**0.5 + 1e-10\n",
    "        # e = 0.9\n",
    "\n",
    "        self.w = f / e\n",
    "        self.h = (self.w**2 - f**2)**0.5\n",
    "        # self.dim = (a, b)\n",
    "        self.center = (self.src + self.dest) * 0.5 \n",
    "\n",
    "    def draw_ellipse(self, ax=None, **kw):\n",
    "        # if not ax: ax=plt.gca()\n",
    "\n",
    "        # ellipse = Ellipse(xy=((x2 + x1) * 0.5, (y2 + y1) * 0.5), width=aax, height=bax, \n",
    "        # ellipse = Ellipse(xy=self.center, width=self.w, height=self.h, edgecolor='r', fc='None', lw=2)\n",
    "        ellipse = Ellipse(xy=self.center, width=self.w, height=self.h, edgecolor = self.color, fc='None', **kw)\n",
    "        ax.add_patch(ellipse)\n",
    "        # p1 = np.c_[x1,y1]\n",
    "        # p2 = np.c_[x2,y2]\n",
    "# e = 0.7\n",
    "poles = [EllipseRegion([i, 1.], [i+1., 1.], 0.7, color = \"r\") for i in range(n)]\n",
    "poles2 = [EllipseRegion([i + 0.5, 1.], [i + 1.5, 1.], 0.7, color = \"g\") for i in range(n)]\n",
    "\n",
    "# poles[0].draw_ellipse(ax)\n",
    "\n",
    "# e = EllipseRegion([0., 0.], [0.+1., 0.])\n",
    "# print(e.w, e.h, e.center)\n",
    "# e.draw_ellipse(ax)\n",
    "\n",
    "# poles = [np.c_[range(n), np.zeros(n)], np.c_[np.arange(1., n + 1.), np.zeros(n)]]\n",
    "# poles += poles2\n",
    "\n",
    "poles = np.c_[poles, poles2].ravel() # join in a, b, a, b, ... order\n",
    "\n",
    "print(poles)\n",
    "\n",
    "for pi in poles:\n",
    "    # print(pi.src, pi.dest)\n",
    "    pi.draw_ellipse(ax)\n",
    "# plt.show()\n",
    "\n",
    "# for pi in poles2:\n",
    "#     # print(pi.src, pi.dest)\n",
    "#     pi.draw_ellipse(ax, fc='None')\n"
   ]
  },
  {
   "cell_type": "code",
   "execution_count": 139,
   "metadata": {},
   "outputs": [
    {
     "output_type": "error",
     "ename": "TypeError",
     "evalue": "list indices must be integers or slices, not tuple",
     "traceback": [
      "\u001b[0;31m---------------------------------------------------------------------------\u001b[0m",
      "\u001b[0;31mTypeError\u001b[0m                                 Traceback (most recent call last)",
      "\u001b[0;32m<ipython-input-139-7905663b9651>\u001b[0m in \u001b[0;36m<module>\u001b[0;34m\u001b[0m\n\u001b[1;32m     19\u001b[0m     \u001b[0mpi\u001b[0m\u001b[0;34m.\u001b[0m\u001b[0mdraw_ellipse\u001b[0m\u001b[0;34m(\u001b[0m\u001b[0max\u001b[0m\u001b[0;34m[\u001b[0m\u001b[0;36m1\u001b[0m\u001b[0;34m]\u001b[0m\u001b[0;34m)\u001b[0m\u001b[0;34m\u001b[0m\u001b[0;34m\u001b[0m\u001b[0m\n\u001b[1;32m     20\u001b[0m \u001b[0;34m\u001b[0m\u001b[0m\n\u001b[0;32m---> 21\u001b[0;31m \u001b[0mst\u001b[0m \u001b[0;34m=\u001b[0m \u001b[0mnp\u001b[0m\u001b[0;34m.\u001b[0m\u001b[0mc_\u001b[0m\u001b[0;34m[\u001b[0m\u001b[0mx\u001b[0m\u001b[0;34m,\u001b[0m \u001b[0mnoise\u001b[0m\u001b[0;34m[\u001b[0m\u001b[0;36m0\u001b[0m\u001b[0;34m,\u001b[0m \u001b[0;34m:\u001b[0m\u001b[0;34m]\u001b[0m\u001b[0;34m]\u001b[0m\u001b[0;34m\u001b[0m\u001b[0;34m\u001b[0m\u001b[0m\n\u001b[0m\u001b[1;32m     22\u001b[0m \u001b[0ml\u001b[0m \u001b[0;34m=\u001b[0m \u001b[0;34m[\u001b[0m\u001b[0;36m0.\u001b[0m\u001b[0;34m]\u001b[0m\u001b[0;34m\u001b[0m\u001b[0;34m\u001b[0m\u001b[0m\n\u001b[1;32m     23\u001b[0m \u001b[0;34m\u001b[0m\u001b[0m\n",
      "\u001b[0;31mTypeError\u001b[0m: list indices must be integers or slices, not tuple"
     ]
    }
   ],
   "source": [
    "m = 80\n",
    "x = np.linspace(0, 4, m)\n",
    "eps = 0.2\n",
    "\n",
    "n_trajs = 2\n",
    "noise = [[1 + eps * np.random.randn(m)] for i in range(n_trajs)]\n",
    "\n",
    "fig, ax = plt.subplots(2, 1, sharey = True, sharex = True, facecolor='w', edgecolor='k')    \n",
    "ax[0].set_aspect('equal', adjustable='box')\n",
    "ax[1].set_aspect('equal', adjustable='box')\n",
    "# ax = plt.gca()\n",
    "\n",
    "for i in range(n_trajs):\n",
    "    ax[0].plot(x, np.array(noise[i]).squeeze())\n",
    "\n",
    "for pi in poles:\n",
    "    # print(pi.src, pi.dest)\n",
    "    pi.draw_ellipse(ax[0])\n",
    "    pi.draw_ellipse(ax[1])\n",
    "\n",
    "\n",
    "# TODO::\n",
    "\n",
    "st = np.c_[x, noise[0]]\n",
    "l = [0.]\n",
    "\n",
    "# algorithm of assigning the closest lm here (use KNN???)\n",
    "\n",
    "# annealed? KNN, the neigbours are the locations and we assign the point to the closest location\n",
    "prev = st[0]\n",
    "\n",
    "def distance(state, ellipce_loc):\n",
    "    assert isinstance(ellipce_loc, EllipseRegion)\n",
    "    d1 = state - ellipce_loc.src\n",
    "    d2 = state - ellipce_loc.dest\n",
    "    return (d1**2 + d2**2)**0.5\n",
    "\n",
    "for curr in st[1:]:\n",
    "    ids = np.array([l[-1]] * 3) + [-1., 0., 1]\n",
    "    if ids[2] >= len(poles):\n",
    "        ids = ids[:2]\n",
    "    dist = [distance(curr, li) for li in poles[ids]]\n",
    "    l.append(ids[np.argmin(dist)])\n",
    "\n",
    "ax[1].scatter(st[0, :], st[1, :], colors = [poles[li].color for li in l])"
   ]
  },
  {
   "cell_type": "code",
   "execution_count": 137,
   "metadata": {},
   "outputs": [
    {
     "output_type": "stream",
     "name": "stdout",
     "text": [
      "Help on built-in function random:\n\nrandom(...) method of numpy.random.mtrand.RandomState instance\n    random(size=None)\n    \n    Return random floats in the half-open interval [0.0, 1.0). Alias for\n    `random_sample` to ease forward-porting to the new random API.\n\n"
     ]
    }
   ],
   "source": [
    "help(np.random.random)"
   ]
  },
  {
   "cell_type": "code",
   "execution_count": 134,
   "metadata": {},
   "outputs": [
    {
     "output_type": "execute_result",
     "data": {
      "text/plain": [
       "array([1, 4, 2, 5, 3, 6])"
      ]
     },
     "metadata": {},
     "execution_count": 134
    }
   ],
   "source": [
    "a = [1, 2, 3]\n",
    "b = [4, 5, 6]\n",
    "np.c_[a, b].ravel()"
   ]
  },
  {
   "cell_type": "code",
   "execution_count": null,
   "metadata": {},
   "outputs": [],
   "source": []
  }
 ]
}