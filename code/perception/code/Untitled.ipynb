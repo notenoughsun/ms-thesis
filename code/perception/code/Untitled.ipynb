{
 "cells": [
  {
   "cell_type": "code",
   "execution_count": null,
   "metadata": {},
   "outputs": [],
   "source": [
    "import pandas as pd\n",
    "import matplotlib.pyplot as plt\n",
    "import numpy as np"
   ]
  },
  {
   "cell_type": "code",
   "execution_count": null,
   "metadata": {},
   "outputs": [],
   "source": [
    "workpath = \"/home/tim/git/ip_graph/out/\""
   ]
  },
  {
   "cell_type": "code",
   "execution_count": null,
   "metadata": {},
   "outputs": [],
   "source": [
    "from geomdl import exchange\n",
    "from geomdl import convert\n",
    "from geomdl import BSpline\n",
    "from geomdl.visualization import VisMPL\n",
    "from geomdl import utilities\n",
    "from geomdl import NURBS\n",
    "import geomdl\n",
    "import itertools\n",
    "import copy\n",
    "import networkx as nx\n",
    "import pandas as pd\n",
    "import matplotlib.pyplot as plt"
   ]
  },
  {
   "cell_type": "code",
   "execution_count": null,
   "metadata": {},
   "outputs": [],
   "source": [
    "curve = BSpline.Curve()\n",
    "\n",
    "# Set up the curve\n",
    "curve.degree = 4\n",
    "\n",
    "curve.ctrlpts = [[5.0, 10.0], [15.0, 25.0], [30.0, 30.0], [45.0, 5.0], [\n",
    "    55.0, 5.0], [70.0, 40.0], [60.0, 60.0], [35.0, 60.0], [20.0, 40.0]]\n",
    "\n",
    "\n",
    "# Auto-generate knot vector\n",
    "curve.knotvector = utilities.generate_knot_vector(\n",
    "    curve.degree, len(curve.ctrlpts))\n",
    "\n",
    "# Set evaluation delta\n",
    "curve.delta = 0.01\n",
    "\n",
    "# Plot the control point polygon and the evaluated curve\n",
    "curve.vis = VisMPL.VisCurve2D()\n",
    "# https://nurbs-python.readthedocs.io/en/5.x/module_vis_mpl.html\n",
    "curve.render()\n",
    "# plt.savefig(\"{}curve.png\".format(workpath))\n",
    "plt.close()"
   ]
  },
  {
   "cell_type": "code",
   "execution_count": null,
   "metadata": {},
   "outputs": [],
   "source": [
    "\n",
    "file_name = \"{}curve.csv\".format(workpath)\n",
    "geomdl.exchange.export_csv(curve, file_name=file_name, point_type='evalpts')\n",
    "# curvepts = pd.read_csv(file_name, header = 0, names = ['x', 'y'])\n",
    "# # print()\n",
    "# pts = curvepts[['x', 'y']].values"
   ]
  },
  {
   "cell_type": "code",
   "execution_count": null,
   "metadata": {},
   "outputs": [],
   "source": [
    "# Get curve points\n",
    "points = np.array(curve.evalpts)\n",
    "plt.plot(points[:, 0], points[:, 1])"
   ]
  },
  {
   "cell_type": "code",
   "execution_count": null,
   "metadata": {},
   "outputs": [],
   "source": [
    "# # spline interpolation\n",
    "\n",
    "# from geomdl import fitting\n",
    "\n",
    "# points = ((0, 0), (3, 4), (-1, 4), (-4, 0), (-4, -3))\n",
    "# degree = 3 # cubic curve\n",
    "\n",
    "# # Do global curve interpolation\n",
    "# curve = fitting.interpolate_curve(points, degree)\n",
    "\n",
    "# # Prepare points\n",
    "# evalpts = np.array(curve.evalpts)\n",
    "# pts = np.array(points)\n",
    "\n",
    "# # Plot points together on the same graph\n",
    "# fig = plt.figure(figsize=(10, 8), dpi=96)\n",
    "# plt.plot(evalpts[:, 0], evalpts[:, 1])\n",
    "# plt.scatter(pts[:, 0], pts[:, 1], color=\"red\")\n",
    "# plt.show()"
   ]
  },
  {
   "cell_type": "code",
   "execution_count": null,
   "metadata": {},
   "outputs": [],
   "source": [
    "x = np.array(curve.evalpts)\n",
    "print(x.shape)\n",
    "dx = x[1:,:] - x[:-1,:]\n",
    "cov = 0.01\n",
    "\n",
    "x0 = x[0, :]"
   ]
  },
  {
   "cell_type": "code",
   "execution_count": null,
   "metadata": {},
   "outputs": [],
   "source": [
    "# sampling from gaussians, covariance transformation\n"
   ]
  },
  {
   "cell_type": "code",
   "execution_count": null,
   "metadata": {},
   "outputs": [],
   "source": [
    "from geomdl import BSpline\n",
    "\n",
    "# Create a BSpline surface instance (Bezier surface)\n",
    "surf = BSpline.Surface()\n",
    "\n",
    "# Set degrees\n",
    "surf.degree_u = 3\n",
    "surf.degree_v = 2\n",
    "\n",
    "# Set control points\n",
    "control_points = [[0, 0, 0], [0, 4, 0], [0, 8, -3],\n",
    "                  [2, 0, 6], [2, 4, 0], [2, 8, 0],\n",
    "                  [4, 0, 0], [4, 4, 0], [4, 8, 3],\n",
    "                  [6, 0, 0], [6, 4, -3], [6, 8, 0]]\n",
    "surf.set_ctrlpts(control_points, 4, 3)\n",
    "\n",
    "# Set knot vectors\n",
    "surf.knotvector_u = [0, 0, 0, 0, 1, 1, 1, 1]\n",
    "surf.knotvector_v = [0, 0, 0, 1, 1, 1]\n",
    "\n",
    "# Set evaluation delta (control the number of surface points)\n",
    "surf.delta = 0.05\n",
    "\n",
    "# Get surface points (the surface will be automatically evaluated)\n",
    "surface_points = surf.evalpts"
   ]
  },
  {
   "cell_type": "code",
   "execution_count": null,
   "metadata": {},
   "outputs": [],
   "source": [
    "import plotly.graph_objects as go\n",
    "import pandas as pd\n",
    "\n",
    "z = np.array(surface_points)\n",
    "sh_0, sh_1 = z.shape\n",
    "x, y = np.linspace(0, 1, sh_0), np.linspace(0, 1, sh_1)\n",
    "\n",
    "plt.plot()\n",
    "# fig = go.Figure(data=[go.Surface(z=z, x=x, y=y)])\n",
    "# fig.update_layout(title='Mt Bruno Elevation', autosize=False,\n",
    "#                   width=500, height=500,\n",
    "#                   margin=dict(l=65, r=50, b=65, t=90))\n",
    "# fig.show()\n",
    "plt.show()\n"
   ]
  },
  {
   "cell_type": "code",
   "execution_count": null,
   "metadata": {},
   "outputs": [],
   "source": [
    "!pip install chart_studio"
   ]
  },
  {
   "cell_type": "code",
   "execution_count": null,
   "metadata": {},
   "outputs": [],
   "source": [
    "import chart_studio.plotly as py\n",
    "import plotly.graph_objects as go\n",
    "\n",
    "import numpy as np\n",
    "\n",
    "s = np.linspace(0, 2 * np.pi, 240)\n",
    "t = np.linspace(0, np.pi, 240)\n",
    "tGrid, sGrid = np.meshgrid(s, t)\n",
    "\n",
    "r = 2 + np.sin(7 * sGrid + 5 * tGrid)  # r = 2 + sin(7s+5t)\n",
    "x = r * np.cos(sGrid) * np.sin(tGrid)  # x = r*cos(s)*sin(t)\n",
    "y = r * np.sin(sGrid) * np.sin(tGrid)  # y = r*sin(s)*sin(t)\n",
    "z = r * np.cos(tGrid)                  # z = r*cos(t)\n",
    "\n",
    "surface = go.Surface(x=x, y=y, z=z)\n",
    "data = [surface]\n",
    "\n",
    "layout = go.Layout(\n",
    "    title='Parametric Plot',\n",
    "    scene=dict(\n",
    "        xaxis=dict(\n",
    "            gridcolor='rgb(255, 255, 255)',\n",
    "            zerolinecolor='rgb(255, 255, 255)',\n",
    "            showbackground=True,\n",
    "            backgroundcolor='rgb(230, 230,230)'\n",
    "        ),\n",
    "        yaxis=dict(\n",
    "            gridcolor='rgb(255, 255, 255)',\n",
    "            zerolinecolor='rgb(255, 255, 255)',\n",
    "            showbackground=True,\n",
    "            backgroundcolor='rgb(230, 230,230)'\n",
    "        ),\n",
    "        zaxis=dict(\n",
    "            gridcolor='rgb(255, 255, 255)',\n",
    "            zerolinecolor='rgb(255, 255, 255)',\n",
    "            showbackground=True,\n",
    "            backgroundcolor='rgb(230, 230,230)'\n",
    "        )\n",
    "    )\n",
    ")\n",
    "\n",
    "fig = go.Figure(data=data, layout=layout)\n",
    "py.iplot(fig, filename='jupyter-parametric_plot')\n",
    "py.savefig(\"{}jupyter-parametric_plot.csv\".format(workpath))"
   ]
  },
  {
   "cell_type": "code",
   "execution_count": null,
   "metadata": {},
   "outputs": [],
   "source": []
  }
 ],
 "metadata": {
  "kernelspec": {
   "display_name": "Python 3.7.3 64-bit ('base')",
   "language": "python",
   "name": "python37364bitbase1a32771c039b457dbb3ec26f17ed11e5"
  },
  "language_info": {
   "codemirror_mode": {
    "name": "ipython",
    "version": 3
   },
   "file_extension": ".py",
   "mimetype": "text/x-python",
   "name": "python",
   "nbconvert_exporter": "python",
   "pygments_lexer": "ipython3",
   "version": "3.7.3"
  }
 },
 "nbformat": 4,
 "nbformat_minor": 2
}
